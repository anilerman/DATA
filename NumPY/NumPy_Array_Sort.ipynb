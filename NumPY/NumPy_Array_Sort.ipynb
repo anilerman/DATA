{
 "cells": [
  {
   "cell_type": "markdown",
   "id": "89756105-0c98-407b-a5b1-533c5563ffd2",
   "metadata": {},
   "source": [
    "# Array Sıralama (Sorting)"
   ]
  },
  {
   "cell_type": "code",
   "execution_count": 1,
   "id": "b7681faf-39fd-41d8-b97d-fc0b8562eefe",
   "metadata": {},
   "outputs": [],
   "source": [
    "import numpy as np"
   ]
  },
  {
   "cell_type": "code",
   "execution_count": 2,
   "id": "781b3b1a-e322-4f20-a4ec-43ee7c3b55be",
   "metadata": {},
   "outputs": [],
   "source": [
    "v = np.array([2,1,4,3,5])"
   ]
  },
  {
   "cell_type": "code",
   "execution_count": 3,
   "id": "564babc6-09ef-400f-b2d3-f9f8807fe825",
   "metadata": {},
   "outputs": [
    {
     "data": {
      "text/plain": [
       "array([2, 1, 4, 3, 5])"
      ]
     },
     "execution_count": 3,
     "metadata": {},
     "output_type": "execute_result"
    }
   ],
   "source": [
    "v"
   ]
  },
  {
   "cell_type": "code",
   "execution_count": 4,
   "id": "4b621d39-d387-4c74-a49b-a6fa5baf1ea7",
   "metadata": {},
   "outputs": [
    {
     "data": {
      "text/plain": [
       "array([1, 2, 3, 4, 5])"
      ]
     },
     "execution_count": 4,
     "metadata": {},
     "output_type": "execute_result"
    }
   ],
   "source": [
    "np.sort(v)"
   ]
  },
  {
   "cell_type": "code",
   "execution_count": 5,
   "id": "4f0765b2-781a-4d28-ab9a-7bff1bbd5f93",
   "metadata": {},
   "outputs": [
    {
     "data": {
      "text/plain": [
       "array([2, 1, 4, 3, 5])"
      ]
     },
     "execution_count": 5,
     "metadata": {},
     "output_type": "execute_result"
    }
   ],
   "source": [
    "v"
   ]
  },
  {
   "cell_type": "code",
   "execution_count": 6,
   "id": "93c1ac9f-f227-4463-b5ba-40f377a4c940",
   "metadata": {},
   "outputs": [],
   "source": [
    "v.sort()"
   ]
  },
  {
   "cell_type": "code",
   "execution_count": 7,
   "id": "3b6167e6-e29a-4af2-bb91-ca2a2c0b78bc",
   "metadata": {},
   "outputs": [
    {
     "data": {
      "text/plain": [
       "array([1, 2, 3, 4, 5])"
      ]
     },
     "execution_count": 7,
     "metadata": {},
     "output_type": "execute_result"
    }
   ],
   "source": [
    "v"
   ]
  },
  {
   "cell_type": "code",
   "execution_count": 8,
   "id": "0c8d4fdb-5e11-4792-bdde-960b2b3fe702",
   "metadata": {},
   "outputs": [],
   "source": [
    "#iki boyutlu array siralama"
   ]
  },
  {
   "cell_type": "code",
   "execution_count": 9,
   "id": "8318e299-0b12-4b83-bf8b-5c03e25b1862",
   "metadata": {},
   "outputs": [],
   "source": [
    "m = np.random.normal(20,5, (3,3))"
   ]
  },
  {
   "cell_type": "code",
   "execution_count": 10,
   "id": "b6045f1c-b742-4cd1-bec2-7b1dc79b27ac",
   "metadata": {},
   "outputs": [
    {
     "data": {
      "text/plain": [
       "array([[11.34367936, 22.35139823, 22.98999717],\n",
       "       [21.13617144, 15.473761  , 22.11736664],\n",
       "       [34.0787152 , 16.0944836 , 19.44433187]])"
      ]
     },
     "execution_count": 10,
     "metadata": {},
     "output_type": "execute_result"
    }
   ],
   "source": [
    "m"
   ]
  },
  {
   "cell_type": "code",
   "execution_count": 11,
   "id": "c45b9c28-46dd-4cf1-8c41-41a25c033dc7",
   "metadata": {},
   "outputs": [
    {
     "data": {
      "text/plain": [
       "array([[11.34367936, 22.35139823, 22.98999717],\n",
       "       [15.473761  , 21.13617144, 22.11736664],\n",
       "       [16.0944836 , 19.44433187, 34.0787152 ]])"
      ]
     },
     "execution_count": 11,
     "metadata": {},
     "output_type": "execute_result"
    }
   ],
   "source": [
    "np.sort(m, axis = 1)"
   ]
  },
  {
   "cell_type": "code",
   "execution_count": 12,
   "id": "c676a374-8020-4000-a6d6-005711504bf3",
   "metadata": {},
   "outputs": [
    {
     "data": {
      "text/plain": [
       "array([[11.34367936, 15.473761  , 19.44433187],\n",
       "       [21.13617144, 16.0944836 , 22.11736664],\n",
       "       [34.0787152 , 22.35139823, 22.98999717]])"
      ]
     },
     "execution_count": 12,
     "metadata": {},
     "output_type": "execute_result"
    }
   ],
   "source": [
    "np.sort(m, axis = 0)"
   ]
  },
  {
   "cell_type": "code",
   "execution_count": null,
   "id": "82e853c8-e377-425e-8317-dbee3a706f8e",
   "metadata": {},
   "outputs": [],
   "source": []
  },
  {
   "cell_type": "code",
   "execution_count": null,
   "id": "9df6678a-6ddc-47d7-8ec5-ead781fb5b68",
   "metadata": {},
   "outputs": [],
   "source": []
  }
 ],
 "metadata": {
  "kernelspec": {
   "display_name": "Python 3",
   "language": "python",
   "name": "python3"
  },
  "language_info": {
   "codemirror_mode": {
    "name": "ipython",
    "version": 3
   },
   "file_extension": ".py",
   "mimetype": "text/x-python",
   "name": "python",
   "nbconvert_exporter": "python",
   "pygments_lexer": "ipython3",
   "version": "3.8.5"
  }
 },
 "nbformat": 4,
 "nbformat_minor": 5
}
